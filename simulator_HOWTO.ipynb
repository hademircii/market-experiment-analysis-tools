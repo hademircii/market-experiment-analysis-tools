{
 "cells": [
  {
   "cell_type": "markdown",
   "metadata": {},
   "source": [
    "Configure a Session\n",
    "------------------------\n",
    "* Go to http://167.99.111.185:8888/tree/simulator_configurations, to access three configuration files.\n",
    "You will edit these files to trigger a session of your taste. After editing each file make sure you save your changes (ctrl + S in Windows, cmd + S in OSx)"
   ]
  },
  {
   "cell_type": "markdown",
   "metadata": {},
   "source": [
    "* **parameters.yaml** --->  static session parameters\n",
    "    * each key, value pair defines a parameter and its value ( parameter: value )\n",
    "    * these are used at session start and static until the session ends."
   ]
  },
  {
   "cell_type": "markdown",
   "metadata": {},
   "source": [
    "* **agent_state_configs.csv** --->  traders' sensitivities and speed technology subscription. \n",
    "    * first line is for column names (arrival_time,agent_num,speed,a_x,a_y,w)\n",
    "    * any line below defines an agents state at a time during the session.\n",
    "    * example: 2,1,TRUE,0,0,0 --> at second 2, agent 1 has speed subscription active, a_x, a_y, w (sensitivies) as 0.\n",
    "    * example: 4,1,TRUE,0.7,0.5,0.5 --> at second 4, agent 1 has speed subscription active, and a_x: 0.7, a_y:0.5 and w: 0.5\n",
    "    * with this configuration; 2 seconds after session start agent 1 will update its technology subscription to True (thus, shorter delay of 100ms), and similary at second 4, it will update sensitivies to 0.7, 0.5, 0.5 .\n",
    "    * first element in line specifies the time of the state update, second is the trader identifier and rest is technology subscription and sensitivities.\n",
    "    * in practice, the program compares two consecutive lines and schedules an update for relevant properties at specified arrival time."
   ]
  },
  {
   "cell_type": "markdown",
   "metadata": {},
   "source": [
    "* **fundamental_values.csv** --->  user defined fundamental value sequence\n",
    "    * fundamental value defaults to the value of the initial_price parameter in parameters.yaml.\n",
    "    * first line is for column names (arrival_time, fundamental value)\n",
    "    * any line below defines the fundamental value at a time during the session.\n",
    "    * example: 2, 1000000 ---> at second 2 fundamental value is set to 1000000 or \\$100.\n",
    "    * example: 4, 1200000 ---> at second 4, fundamental value is set to 1200000 or \\$120.\n",
    "    * with this configuration; random orders (investor orders) will be drawn around fundamental value of 1000000 between seconds 2 and 4, and around 1200000 after second 4."
   ]
  },
  {
   "cell_type": "markdown",
   "metadata": {},
   "source": [
    "Run a Session\n",
    "------------------------\n",
    "* Go to http://167.99.111.185:8888/notebooks/signal_simulator.ipynb, to access the script that sends a signal to simulator.\n",
    "* edit the first cell and replace the string that 'session_note' variable points at. This step is optional, allows user to insert custom text in the final report. \n",
    "![howto_2.png](/tree/misc/howto_6.png)\n",
    "* click on 'Kernel' in the dropdown above and select 'Restart & Run All'. \n",
    "![howto_2.png](/tree/misc/howto_2.png)\n",
    "* if the simulator responds with success, it will send back a message containing the session code and copy of static parameters will be used in the session. This message will be printed in the very bottom cell. Then, simulated session will be running in the background.\n",
    "![howto_3.png](/tree/misc/howto_3.png)\n",
    "* note (copy or write down or keep in mind) this session code (in the image above it is x73ly7ck) since every output of this session will be tagged and identified with it."
   ]
  },
  {
   "cell_type": "markdown",
   "metadata": {},
   "source": [
    "Process a Session's Output\n",
    "------------------------\n",
    "* When a simulation runs to completion, it will dump two files, one for traders' and one for the markets (focal/external), to directory http://167.99.111.185:8888/tree/data .\n",
    "* Each of these files will have the name format of \\[session code\\]\\_\\[entity type\\]\\_\\[data dump time\\]\n",
    "* Go to http://167.99.111.185:8888/notebooks/analyze.ipynb .\n",
    "* Edit the top cell so that the variable 'session_id' matches with the session code that you have obtained in the previous step.\n",
    "![howto_4.png](/tree/misc/howto_4.png)\n",
    "* similar to 'Run a Session' the section above, do a 'Kernel' & 'Restart & Run all'.\n",
    "* if the script runs to completion, a series of images will be printed on lower cells. High resolution versions of these images will be located under http://167.99.111.185:8888/tree/results , partitioned in folders by session code."
   ]
  },
  {
   "cell_type": "markdown",
   "metadata": {},
   "source": [
    "Inspect a Session's Output\n",
    "------------------------\n",
    "* A session produces three types of output. \n",
    "    * First file is a session report, it includes an optional user note and static session parameters.\n",
    "    * The declarative part (used in generating plots above) consist of two files, one for traders and one for markets. Rows in these files are timestamped and tagged with the entity (trader or market) identifier, and trigger message type (since each change in agent/market state is triggered by a message). It is declarative since each row encodes an entities full state rather than means to achieve such state. These files are located at http://167.99.111.185:8888/tree/data\n",
    "    * The imperative part has a file per entity plus a file for session managing object (ex: a 4 trader 2 market session will have 7 files). It is imperative as these logs details operations done by entities line by line.  These files are under: http://167.99.111.185:8888/tree/simulator_logs \n",
    "    "
   ]
  }
 ],
 "metadata": {
  "kernelspec": {
   "display_name": "Python 3",
   "language": "python",
   "name": "python3"
  },
  "language_info": {
   "codemirror_mode": {
    "name": "ipython",
    "version": 3
   },
   "file_extension": ".py",
   "mimetype": "text/x-python",
   "name": "python",
   "nbconvert_exporter": "python",
   "pygments_lexer": "ipython3",
   "version": "3.5.2"
  }
 },
 "nbformat": 4,
 "nbformat_minor": 2
}
