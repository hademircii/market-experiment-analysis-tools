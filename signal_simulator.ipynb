{
 "cells": [
  {
   "cell_type": "code",
   "execution_count": 1,
   "metadata": {},
   "outputs": [],
   "source": [
    "#  edit this cell\n",
    "session_note = 'Dan3 simulation'  # make sure there are quotes around the text,\n",
    "                                         # do not use special characters. [_-:;']"
   ]
  },
  {
   "cell_type": "code",
   "execution_count": 2,
   "metadata": {},
   "outputs": [],
   "source": [
    "assert isinstance(session_note, str) , 'invalid note, make sure it is a valid python string'"
   ]
  },
  {
   "cell_type": "code",
   "execution_count": 3,
   "metadata": {},
   "outputs": [],
   "source": [
    "debug = True"
   ]
  },
  {
   "cell_type": "code",
   "execution_count": 4,
   "metadata": {},
   "outputs": [],
   "source": [
    "import requests"
   ]
  },
  {
   "cell_type": "code",
   "execution_count": 5,
   "metadata": {},
   "outputs": [],
   "source": [
    "server_address = 'http://localhost:5000/v1/simulate' + '?debug=True' if debug else ''"
   ]
  },
  {
   "cell_type": "code",
   "execution_count": 6,
   "metadata": {},
   "outputs": [],
   "source": [
    "r = requests.post(server_address, json={'note': session_note})"
   ]
  },
  {
   "cell_type": "code",
   "execution_count": 7,
   "metadata": {},
   "outputs": [
    {
     "name": "stdout",
     "output_type": "stream",
     "text": [
      "scheduled simulation: code --> qgx72j9i, debug --> True, note --> Dan3 simulation, parameters --> tax_rate:0.1 lambdaJ:0.5 time_in_force:7 a_x_multiplier:4 bid_ask_offset:10000 exogenous_order_price_noise_std:12000 speed_unit_cost:20000 lambdaI:[0.1, 0.02] exogenous_order_price_noise_mean:0 k_reference_price:0.2 a_y_multiplier:2 read_fundamental_values_from_file:True fundamental_value_noise_std:1400 session_duration:10 fundamental_value_noise_mean:0 initial_price:1000000 k_signed_volume:0.5\n"
     ]
    }
   ],
   "source": [
    "data = r.json()\n",
    "print(data['message'])"
   ]
  }
 ],
 "metadata": {
  "kernelspec": {
   "display_name": "Python 3",
   "language": "python",
   "name": "python3"
  },
  "language_info": {
   "codemirror_mode": {
    "name": "ipython",
    "version": 3
   },
   "file_extension": ".py",
   "mimetype": "text/x-python",
   "name": "python",
   "nbconvert_exporter": "python",
   "pygments_lexer": "ipython3",
   "version": "3.5.2"
  }
 },
 "nbformat": 4,
 "nbformat_minor": 2
}
